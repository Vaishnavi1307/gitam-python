{
 "cells": [
  {
   "cell_type": "code",
   "execution_count": 2,
   "metadata": {},
   "outputs": [
    {
     "name": "stdout",
     "output_type": "stream",
     "text": [
      "enter the number 113\n",
      "enter the number 218\n",
      "enter the number 314\n",
      "18  is greater\n"
     ]
    }
   ],
   "source": [
    "#find the large number from the given 3 numbers\n",
    "a1=int(input(\"enter the number 1\"))\n",
    "a2=int(input(\"enter the number 2\"))\n",
    "a3=int(input(\"enter the number 3\"))\n",
    "if a1>a2 and a1>a3:\n",
    "    print(a1,\" is greater\")\n",
    "elif a2>a1 and a2>a3:\n",
    "    print(a2,\" is greater\")\n",
    "else:\n",
    "    print(a3,\" is greater\")"
   ]
  },
  {
   "cell_type": "code",
   "execution_count": 4,
   "metadata": {},
   "outputs": [
    {
     "name": "stdout",
     "output_type": "stream",
     "text": [
      "enter year2019\n",
      "not a leap year\n"
     ]
    }
   ],
   "source": [
    "#check if the year is leap year or not\n",
    "year=int(input(\"enter year\"))\n",
    "if year%400==0 or (year%100!=0 and year%4==0):\n",
    "    print(\"leap year\")\n",
    "else:\n",
    "    print(\"not a leap year\")"
   ]
  },
  {
   "cell_type": "markdown",
   "metadata": {},
   "source": [
    "### iteration\n",
    "1.while loop\n",
    "2.for loop\n",
    "\n",
    "syntax:\n",
    "  while boolean_condition:\n",
    "      statements\n",
    "      increment/decrement"
   ]
  },
  {
   "cell_type": "code",
   "execution_count": 5,
   "metadata": {},
   "outputs": [
    {
     "name": "stdout",
     "output_type": "stream",
     "text": [
      "gitam\n",
      "gitam\n",
      "gitam\n",
      "gitam\n",
      "gitam\n"
     ]
    }
   ],
   "source": [
    "#print 'gitam' for 5 times\n",
    "print(\"gitam\")\n",
    "print(\"gitam\")\n",
    "print(\"gitam\")\n",
    "print(\"gitam\")\n",
    "print(\"gitam\")"
   ]
  },
  {
   "cell_type": "code",
   "execution_count": 6,
   "metadata": {},
   "outputs": [
    {
     "name": "stdout",
     "output_type": "stream",
     "text": [
      "gitam\n",
      "gitam\n",
      "gitam\n",
      "gitam\n",
      "gitam\n"
     ]
    }
   ],
   "source": [
    "x=0\n",
    "while x<5:\n",
    "    print(\"gitam\")\n",
    "    x=x+1"
   ]
  },
  {
   "cell_type": "code",
   "execution_count": 8,
   "metadata": {},
   "outputs": [
    {
     "name": "stdout",
     "output_type": "stream",
     "text": [
      "enter a number10\n",
      "0 2 4 6 8 10 "
     ]
    }
   ],
   "source": [
    "#print even number\n",
    "end=int(input(\"enter a number\"))\n",
    "for num in range( end+1):\n",
    "   if num % 2 ==0:\n",
    "       print(num, end = \" \")"
   ]
  },
  {
   "cell_type": "code",
   "execution_count": 2,
   "metadata": {},
   "outputs": [
    {
     "name": "stdout",
     "output_type": "stream",
     "text": [
      "enter the value5\n",
      "1\n",
      "2\n",
      "3\n",
      "4\n",
      "5\n"
     ]
    }
   ],
   "source": [
    "#print the  n natural numbers\n",
    "n=int(input(\"enter the value\"))\n",
    "i=1\n",
    "while i<=n:\n",
    "    print(i)\n",
    "    i=i+1"
   ]
  },
  {
   "cell_type": "code",
   "execution_count": null,
   "metadata": {},
   "outputs": [],
   "source": []
  },
  {
   "cell_type": "code",
   "execution_count": 4,
   "metadata": {},
   "outputs": [
    {
     "name": "stdout",
     "output_type": "stream",
     "text": [
      "enter n value10\n",
      "30\n"
     ]
    }
   ],
   "source": [
    "#sum of even numbers between 1 to n\n",
    "n=int(input(\"enter n value\"))\n",
    "i=1\n",
    "sum=0\n",
    "while i<=n:\n",
    "      if i%2==0:\n",
    "          sum=sum+i\n",
    "      i=i+1\n",
    "print(sum)"
   ]
  },
  {
   "cell_type": "code",
   "execution_count": 19,
   "metadata": {},
   "outputs": [
    {
     "name": "stdout",
     "output_type": "stream",
     "text": [
      "enter the number1234\n",
      "4321"
     ]
    }
   ],
   "source": [
    "#printing in reverse order\n",
    "n=int(input(\"enter the number\"))\n",
    "while n>0:\n",
    "    x=n%10\n",
    "    print(x,end=\"\")\n",
    "    n=n//10\n",
    "    "
   ]
  },
  {
   "cell_type": "markdown",
   "metadata": {},
   "source": [
    "### functional programming\n",
    "1.simple\n",
    "2.easy read\n",
    "3.lengthy program divide into sub programs\n"
   ]
  },
  {
   "cell_type": "code",
   "execution_count": null,
   "metadata": {},
   "outputs": [],
   "source": [
    "def nameoftheprogram(<parameters>):\n",
    "    statement\n",
    "    return"
   ]
  },
  {
   "cell_type": "code",
   "execution_count": 17,
   "metadata": {},
   "outputs": [
    {
     "name": "stdout",
     "output_type": "stream",
     "text": [
      "enter a number1234\n"
     ]
    },
    {
     "data": {
      "text/plain": [
       "6"
      ]
     },
     "execution_count": 17,
     "metadata": {},
     "output_type": "execute_result"
    }
   ],
   "source": [
    "# sum of even digits in a number\n",
    "n=int(input(\"enter a number\"))\n",
    "def addevendigits(n):\n",
    "    sum=0\n",
    "    while n>0:\n",
    "        x=n%10\n",
    "        if x%2==0:\n",
    "            sum=sum+x\n",
    "        n=n//10\n",
    "    return sum\n",
    "addevendigits(n)"
   ]
  },
  {
   "cell_type": "code",
   "execution_count": 18,
   "metadata": {},
   "outputs": [
    {
     "name": "stdout",
     "output_type": "stream",
     "text": [
      "enter a number15862\n"
     ]
    },
    {
     "data": {
      "text/plain": [
       "8"
      ]
     },
     "execution_count": 18,
     "metadata": {},
     "output_type": "execute_result"
    }
   ],
   "source": [
    "#read a number\n",
    "#print the largest digit from thr number\n",
    "n=int(input(\"enter a number\"))\n",
    "def printlarge(n):\n",
    "    large=0\n",
    "    while n>0:\n",
    "        x=n%10\n",
    "        if large<x:\n",
    "            large=x\n",
    "        n=n//10\n",
    "    return large\n",
    "printlarge(n)"
   ]
  },
  {
   "cell_type": "code",
   "execution_count": 26,
   "metadata": {},
   "outputs": [
    {
     "name": "stdout",
     "output_type": "stream",
     "text": [
      "enter a number58746\n"
     ]
    },
    {
     "data": {
      "text/plain": [
       "64785"
      ]
     },
     "execution_count": 26,
     "metadata": {},
     "output_type": "execute_result"
    }
   ],
   "source": [
    "#enter a number and get the reverse of that number\n",
    "n=int(input(\"enter a number\"))\n",
    "def reversenum(n):\n",
    "    rev=0\n",
    "    while n>0:\n",
    "        x=n%10\n",
    "        rev=rev*10+x\n",
    "        n=n//10\n",
    "    return rev\n",
    "reversenum(n)"
   ]
  },
  {
   "cell_type": "code",
   "execution_count": 31,
   "metadata": {},
   "outputs": [
    {
     "name": "stdout",
     "output_type": "stream",
     "text": [
      "enter a value5458\n"
     ]
    },
    {
     "data": {
      "text/plain": [
       "'no'"
      ]
     },
     "execution_count": 31,
     "metadata": {},
     "output_type": "execute_result"
    }
   ],
   "source": [
    "#given number is palindrome or  not\n",
    "n=int(input(\"enter a value\"))\n",
    "def palindrome(n):\n",
    "    val=n\n",
    "    rev=0\n",
    "    while n>0:\n",
    "        x=n%10\n",
    "        rev=rev*10+x\n",
    "        n=n//10\n",
    "    if val==rev:\n",
    "        print(\"yes\")#return \"yes\"\n",
    "    else:\n",
    "        return \"no\"\n",
    "    \n",
    "palindrome(n)"
   ]
  },
  {
   "cell_type": "code",
   "execution_count": 34,
   "metadata": {},
   "outputs": [
    {
     "name": "stdout",
     "output_type": "stream",
     "text": [
      "enter the value10\n",
      "1 2 3 4 5 6 7 8 9 10 "
     ]
    }
   ],
   "source": [
    "#to print n natural numbers with for loop\n",
    "n=int(input(\"enter the value\"))\n",
    "def printnaturalnumbers(n):\n",
    "    for x in range(1,n+1):\n",
    "        print(x,end=\" \")\n",
    "    return\n",
    "printnaturalnumbers(n)"
   ]
  },
  {
   "cell_type": "code",
   "execution_count": 36,
   "metadata": {},
   "outputs": [
    {
     "name": "stdout",
     "output_type": "stream",
     "text": [
      "11 12 13 14 15 16 17 18 19 20 "
     ]
    }
   ],
   "source": [
    "#function to print the digits between 2 numbers\n",
    "def printnumbers(lb,ub):\n",
    "    for x in range(lb,ub+1):\n",
    "        print(x,end=\" \")\n",
    "    return\n",
    "printnumbers(11,20)"
   ]
  },
  {
   "cell_type": "code",
   "execution_count": 37,
   "metadata": {},
   "outputs": [
    {
     "name": "stdout",
     "output_type": "stream",
     "text": [
      "20 24 28 32 36 40 44 "
     ]
    }
   ],
   "source": [
    "#to print alternate numbers\n",
    "def alternatenum(lb,ub):\n",
    "    for x in range(lb,ub+1,4):\n",
    "        print(x,end=\" \")\n",
    "    return\n",
    "alternatenum(20,44)"
   ]
  },
  {
   "cell_type": "code",
   "execution_count": 38,
   "metadata": {},
   "outputs": [
    {
     "name": "stdout",
     "output_type": "stream",
     "text": [
      "10 9 8 7 6 5 4 3 2 1 "
     ]
    }
   ],
   "source": [
    "# to print the series in reverse\n",
    "def reverseprint(lb,ub):\n",
    "    for x in range(ub,lb-1,-1):\n",
    "        print(x,end=\" \")\n",
    "    return\n",
    "reverseprint(1,10)"
   ]
  },
  {
   "cell_type": "code",
   "execution_count": null,
   "metadata": {},
   "outputs": [],
   "source": []
  }
 ],
 "metadata": {
  "kernelspec": {
   "display_name": "Python 3",
   "language": "python",
   "name": "python3"
  },
  "language_info": {
   "codemirror_mode": {
    "name": "ipython",
    "version": 3
   },
   "file_extension": ".py",
   "mimetype": "text/x-python",
   "name": "python",
   "nbconvert_exporter": "python",
   "pygments_lexer": "ipython3",
   "version": "3.7.3"
  }
 },
 "nbformat": 4,
 "nbformat_minor": 2
}
