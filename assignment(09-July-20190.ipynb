{
 "cells": [
  {
   "cell_type": "code",
   "execution_count": 5,
   "metadata": {},
   "outputs": [
    {
     "name": "stdout",
     "output_type": "stream",
     "text": [
      "46"
     ]
    }
   ],
   "source": [
    "#obtain even numbers from the list\n",
    "li=[1,4,5,6,7]\n",
    "def iseven(li):\n",
    "    for x in range(len(li)):\n",
    "        while li[x]%2==0:\n",
    "            print(li[x],end=\"\")\n",
    "            break\n",
    "    return\n",
    "iseven(li)"
   ]
  },
  {
   "cell_type": "code",
   "execution_count": null,
   "metadata": {},
   "outputs": [],
   "source": [
    "#square the even numbers\n",
    "li=[1,2,3,4,5]\n",
    "def square(li):\n",
    "    for x in range(len(li)):\n",
    "        if li[x]%2==0:\n",
    "            print(li[x]^2,end=\"\")\n",
    "        else:\n",
    "            print(li[x],end=\"\")\n",
    "    return\n"
   ]
  }
 ],
 "metadata": {
  "kernelspec": {
   "display_name": "Python 3",
   "language": "python",
   "name": "python3"
  },
  "language_info": {
   "codemirror_mode": {
    "name": "ipython",
    "version": 3
   },
   "file_extension": ".py",
   "mimetype": "text/x-python",
   "name": "python",
   "nbconvert_exporter": "python",
   "pygments_lexer": "ipython3",
   "version": "3.7.3"
  }
 },
 "nbformat": 4,
 "nbformat_minor": 2
}
