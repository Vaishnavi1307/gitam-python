{
 "cells": [
  {
   "cell_type": "code",
   "execution_count": 3,
   "metadata": {},
   "outputs": [
    {
     "name": "stdout",
     "output_type": "stream",
     "text": [
      "1 3 5 15 "
     ]
    }
   ],
   "source": [
    "#factors of the given number\n",
    "def factorslist(n):\n",
    "    for x in range(1,n+1):\n",
    "        if n%x==0:\n",
    "            print(x,end=\" \")\n",
    "    return\n",
    "factorslist(15)"
   ]
  },
  {
   "cell_type": "code",
   "execution_count": 11,
   "metadata": {},
   "outputs": [
    {
     "data": {
      "text/plain": [
       "True"
      ]
     },
     "execution_count": 11,
     "metadata": {},
     "output_type": "execute_result"
    }
   ],
   "source": [
    "# a number is prime or not\n",
    "def isprime(n):\n",
    "    flag=True\n",
    "    for x in range(2,n//2+1):\n",
    "        if n%x==0:\n",
    "            flag= False\n",
    "            return flag\n",
    "    return flag\n",
    "isprime(5)"
   ]
  },
  {
   "cell_type": "code",
   "execution_count": 24,
   "metadata": {},
   "outputs": [
    {
     "data": {
      "text/plain": [
       "8"
      ]
     },
     "execution_count": 24,
     "metadata": {},
     "output_type": "execute_result"
    }
   ],
   "source": [
    "#prime numbers count from 1 to n\n",
    "def primecount(n):\n",
    "    count=0\n",
    "    for a in range(2,n+1):\n",
    "        k=0\n",
    "        for i in range(2,a//2+1):\n",
    "            if a%i==0:\n",
    "                k=k+1\n",
    "        if (k<=0):\n",
    "                count=count+1\n",
    "    return count\n",
    "primecount(20)"
   ]
  },
  {
   "cell_type": "code",
   "execution_count": 29,
   "metadata": {},
   "outputs": [
    {
     "data": {
      "text/plain": [
       "'yes'"
      ]
     },
     "execution_count": 29,
     "metadata": {},
     "output_type": "execute_result"
    }
   ],
   "source": [
    "#individual digit factorial sum is same as original number\n",
    "def factorial(n):\n",
    "    fact=1\n",
    "    for i in range(2,n+1):\n",
    "        fact*=i\n",
    "    return fact\n",
    "def digitsum(n):\n",
    "    buffer=n\n",
    "    sum=0\n",
    "    while n>0:\n",
    "        x=n%10\n",
    "        sum+=factorial(x)\n",
    "        n=n//10\n",
    "    if sum==buffer:\n",
    "        return \"yes\"\n",
    "    else:\n",
    "        return \"no\"\n",
    "digitsum(145)"
   ]
  },
  {
   "cell_type": "code",
   "execution_count": 44,
   "metadata": {},
   "outputs": [
    {
     "data": {
      "text/plain": [
       "18"
      ]
     },
     "execution_count": 44,
     "metadata": {},
     "output_type": "execute_result"
    }
   ],
   "source": [
    "#to return the count of palindrome numbers\n",
    "def palindrome(n):\n",
    "    val=n\n",
    "    rev=0\n",
    "    while n>0:\n",
    "        x=n%10\n",
    "        rev=rev*10+x\n",
    "        n=n//10\n",
    "    if rev==val:\n",
    "        return  True\n",
    "    else:\n",
    "        return False\n",
    "    return\n",
    "def palindromecount(n):\n",
    "    count=0\n",
    "    for val in range(1,n+1):\n",
    "        if palindrome(val) == True:\n",
    "            count=count+1\n",
    "    return count\n",
    "   \n",
    "palindromecount(100)"
   ]
  },
  {
   "cell_type": "code",
   "execution_count": 49,
   "metadata": {},
   "outputs": [
    {
     "name": "stdout",
     "output_type": "stream",
     "text": [
      "6 28 \n"
     ]
    }
   ],
   "source": [
    "#generate the perfect numbers\n",
    "def factors(n):\n",
    "    sum=0\n",
    "    for i in range(1,n//2+1):\n",
    "        if n%i==0:\n",
    "            sum=sum+i\n",
    "    return sum\n",
    "def isperfect(n):\n",
    "    if factors(n)==n:\n",
    "        return True\n",
    "    else:\n",
    "        return False\n",
    "def generateperfect(lb,ub):\n",
    "    for x in range(lb,ub+1):\n",
    "        if isperfect(x):\n",
    "            print(x,end=\" \")\n",
    "    print()\n",
    "    return\n",
    "generateperfect(1,100)"
   ]
  },
  {
   "cell_type": "code",
   "execution_count": 8,
   "metadata": {},
   "outputs": [
    {
     "name": "stdout",
     "output_type": "stream",
     "text": [
      "p\n",
      "py\n",
      "n\n",
      "py\n",
      "thon\n",
      "hon\n",
      "ytho\n",
      "h\n",
      "no\n",
      "pto\n",
      "ph\n",
      "nohtyp\n"
     ]
    }
   ],
   "source": [
    "s1=\"python\"\n",
    "print(s1[0])\n",
    "print(s1[0:2])\n",
    "print(s1[-1])\n",
    "print(s1[:2])\n",
    "print(s1[2:])\n",
    "print(s1[-3:])\n",
    "print(s1[1:-1])\n",
    "print(s1[len(s1)//2])#middle of the string\n",
    "print(s1[-1:-3:-1])#access the last two characters\n",
    "print(s1[::2])#alternate two characters\n",
    "print(s1[::3])#alternate 3 characters\n",
    "print(s1[::-1])#reverse order"
   ]
  },
  {
   "cell_type": "code",
   "execution_count": 7,
   "metadata": {},
   "outputs": [
    {
     "name": "stdout",
     "output_type": "stream",
     "text": [
      "P T "
     ]
    }
   ],
   "source": [
    "#A-Z:65-90\n",
    "#a-z:97-122\n",
    "#0-9:48-57\n",
    "#space:32\n",
    "def printupper(x):\n",
    "    for i in range(len(x)):\n",
    "        if ord(x[i])>=65 and ord(x[i])<=90:\n",
    "            print(x[i],end=\" \")\n",
    "    return\n",
    "printupper(\"PyThon\")"
   ]
  },
  {
   "cell_type": "code",
   "execution_count": 10,
   "metadata": {},
   "outputs": [
    {
     "data": {
      "text/plain": [
       "'programming'"
      ]
     },
     "execution_count": 10,
     "metadata": {},
     "output_type": "execute_result"
    }
   ],
   "source": [
    "#function to print \"SameCount\" if the count of\n",
    "#upper and lower case is same\n",
    "#print \"programming\" if not same\n",
    "def samecount(x):\n",
    "    uppercnt=0\n",
    "    lowercnt=0\n",
    "    for i in range(len(x)):\n",
    "        if ord(x[i])>=65 and ord(x[i])<=90:\n",
    "            uppercnt=uppercnt+1\n",
    "        elif ord(x[i])>=97 and ord(x[i])<=122:\n",
    "            lowercnt=lowercnt+1\n",
    "    if uppercnt==lowercnt:\n",
    "        return \"samecount\"\n",
    "    else:\n",
    "        return \"programming\"\n",
    "    return\n",
    "samecount(\"PyTHOn\")"
   ]
  },
  {
   "cell_type": "code",
   "execution_count": 11,
   "metadata": {},
   "outputs": [
    {
     "name": "stdout",
     "output_type": "stream",
     "text": [
      "False\n",
      "True\n"
     ]
    }
   ],
   "source": [
    "def ispalindrome(str):\n",
    "    if str==str[::-1]:\n",
    "        return True\n",
    "    else:\n",
    "        return False\n",
    "    return\n",
    "print(ispalindrome(\"python\"))\n",
    "print(ispalindrome(\"ganag\"))"
   ]
  },
  {
   "cell_type": "code",
   "execution_count": 14,
   "metadata": {},
   "outputs": [
    {
     "name": "stdout",
     "output_type": "stream",
     "text": [
      "2 1 9 "
     ]
    }
   ],
   "source": [
    "#extract digits from the given string\n",
    "def isdigit(x):\n",
    "    for i in range(len(x)):\n",
    "        if ord(x[i])>=48 and ord(x[i])<=57:\n",
    "            print(x[i],end=\" \")\n",
    "    return\n",
    "isdigit(\"gitam2k19\")"
   ]
  },
  {
   "cell_type": "code",
   "execution_count": 28,
   "metadata": {},
   "outputs": [
    {
     "name": "stdout",
     "output_type": "stream",
     "text": [
      "2 1 9 "
     ]
    },
    {
     "data": {
      "text/plain": [
       "12"
      ]
     },
     "execution_count": 28,
     "metadata": {},
     "output_type": "execute_result"
    }
   ],
   "source": [
    "#return the sum of digits in the given string\n",
    "def isdigit(x):\n",
    "    sum=0\n",
    "    for i in range(len(x)):\n",
    "        if ord(x[i])>=48 and ord(x[i])<=57:\n",
    "            print(x[i],end=\" \")\n",
    "            sum=sum+(ord(x[i])-48)\n",
    "    return sum\n",
    "isdigit(\"gitam2k19\")"
   ]
  },
  {
   "cell_type": "code",
   "execution_count": 26,
   "metadata": {},
   "outputs": [
    {
     "data": {
      "text/plain": [
       "156"
      ]
     },
     "execution_count": 26,
     "metadata": {},
     "output_type": "execute_result"
    }
   ],
   "source": [
    "48+48+48+1+2+9"
   ]
  },
  {
   "cell_type": "code",
   "execution_count": 36,
   "metadata": {},
   "outputs": [
    {
     "data": {
      "text/plain": [
       "10"
      ]
     },
     "execution_count": 36,
     "metadata": {},
     "output_type": "execute_result"
    }
   ],
   "source": [
    "#sum of even digits in the strings\n",
    "def isdigit(x):\n",
    "    sum=0\n",
    "    for i in range(len(x)):\n",
    "        if ord(x[i])>=48 and ord(x[i])<=57:\n",
    "            if (ord(x[i])-48)%2==0:\n",
    "                sum=sum+(ord(x[i])-48)\n",
    "    return sum\n",
    "isdigit(\"gitam2k18\")"
   ]
  },
  {
   "cell_type": "code",
   "execution_count": 40,
   "metadata": {},
   "outputs": [
    {
     "name": "stdout",
     "output_type": "stream",
     "text": [
      "PYTHON"
     ]
    }
   ],
   "source": [
    "#to print the specific word in upper case from lower case\n",
    "def inupper(x):\n",
    "    spacecnt=0\n",
    "    for i in range(len(x)):\n",
    "        if ord(x[i])==32:\n",
    "            spacecnt+=1\n",
    "        if spacecnt==1:\n",
    "            if ord(x[i])>=65 and ord(x[i])<=90:\n",
    "                print(x[i],end=\"\")\n",
    "            elif ord(x[i])>=97 and ord(x[i])<=122:\n",
    "                print(chr(ord(x[i])-32),end=\"\")\n",
    "        if spacecnt==2:\n",
    "            break\n",
    "    return\n",
    "inupper(\"learning python programming\")"
   ]
  },
  {
   "cell_type": "code",
   "execution_count": null,
   "metadata": {},
   "outputs": [],
   "source": []
  }
 ],
 "metadata": {
  "kernelspec": {
   "display_name": "Python 3",
   "language": "python",
   "name": "python3"
  },
  "language_info": {
   "codemirror_mode": {
    "name": "ipython",
    "version": 3
   },
   "file_extension": ".py",
   "mimetype": "text/x-python",
   "name": "python",
   "nbconvert_exporter": "python",
   "pygments_lexer": "ipython3",
   "version": "3.7.3"
  }
 },
 "nbformat": 4,
 "nbformat_minor": 2
}
