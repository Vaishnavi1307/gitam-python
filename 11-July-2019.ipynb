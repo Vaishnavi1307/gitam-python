{
 "cells": [
  {
   "cell_type": "markdown",
   "metadata": {},
   "source": [
    "### standard libraries\n",
    "- file I/O\n",
    "- regular expression\n",
    "- datetime\n",
    "- math(numerical and mathematical)\n"
   ]
  },
  {
   "cell_type": "markdown",
   "metadata": {},
   "source": [
    "### file handling in python\n",
    "-fileL:- document containing information resides on the permanent storage\n",
    "--- different types of files:- txt,doc,cvv,pdf and etc...\n",
    "### modes of the file\n",
    "-'w'--> used for writing a file\n",
    "    --if the file is not present,it creates the file and writes the data into it\n",
    "    --if the file is already present,then it rewrites the data to it"
   ]
  },
  {
   "cell_type": "code",
   "execution_count": 2,
   "metadata": {},
   "outputs": [
    {
     "name": "stdout",
     "output_type": "stream",
     "text": [
      "file is created and data is written\n"
     ]
    }
   ],
   "source": [
    "#creation of the file and insertion of the data into it\n",
    "def createfile(filename):\n",
    "    f=open(filename,'w')\n",
    "    for i in range(10):\n",
    "        f.write('this is %d line'%i)\n",
    "    print(\"file is created and data is written\")\n",
    "    return\n",
    "createfile(\"file1.txt\")"
   ]
  },
  {
   "cell_type": "code",
   "execution_count": 4,
   "metadata": {},
   "outputs": [
    {
     "name": "stdout",
     "output_type": "stream",
     "text": [
      " Volume in drive C has no label.\n",
      " Volume Serial Number is 7EC0-E62F\n",
      "\n",
      " Directory of C:\\Users\\239\n",
      "\n",
      "05/09/2019  11:41 AM             3,525  Day 6 -PYTHON.ipynb\n",
      "07/11/2019  03:11 PM    <DIR>          .\n",
      "07/11/2019  03:11 PM    <DIR>          ..\n",
      "05/18/2019  03:15 PM    <DIR>          .anaconda\n",
      "03/14/2017  12:34 PM               145 .appletviewer\n",
      "06/19/2019  11:02 PM               308 .bash_history\n",
      "11/02/2017  03:10 PM                 0 .cdtclient\n",
      "05/18/2019  06:31 PM    <DIR>          .conda\n",
      "05/18/2019  03:18 PM                43 .condarc\n",
      "09/24/2018  02:50 PM    <DIR>          .eclipse\n",
      "07/11/2019  02:51 PM    <DIR>          .ipynb_checkpoints\n",
      "05/09/2019  10:39 AM    <DIR>          .ipython\n",
      "09/24/2018  02:50 PM    <DIR>          .jmc\n",
      "05/18/2019  03:18 PM    <DIR>          .jupyter\n",
      "05/09/2019  02:39 PM    <DIR>          .matplotlib\n",
      "11/15/2018  03:01 PM    <DIR>          .oracle_jre_usage\n",
      "07/08/2019  03:13 PM             9,957 06-July-2019.ipynb\n",
      "07/08/2019  09:28 PM            10,275 08-July-2019.ipynb\n",
      "07/09/2019  09:24 PM            15,847 09-July-2019.ipynb\n",
      "07/10/2019  10:07 PM            20,028 10-July-2019.ipynb\n",
      "05/10/2019  03:37 PM            15,124 10May2019.ipynb\n",
      "05/12/2019  11:04 AM             7,239 11_may_2019.ipynb\n",
      "07/11/2019  03:11 PM             5,788 11-July-2019.ipynb\n",
      "05/09/2019  10:25 AM    <DIR>          Anaconda3\n",
      "07/10/2019  08:08 PM             2,027 assignment(09-July-20190.ipynb\n",
      "07/10/2019  10:44 PM            10,672 assignment(10-July-2019).ipynb\n",
      "05/09/2019  10:15 AM    <DIR>          Contacts\n",
      "05/09/2019  03:48 PM            22,732 Day 4 -PYTHON.ipynb\n",
      "07/10/2019  09:57 PM    <DIR>          Desktop\n",
      "06/20/2019  08:23 PM    <DIR>          Documents\n",
      "07/05/2019  05:33 PM    <DIR>          Downloads\n",
      "05/09/2019  10:15 AM    <DIR>          Favorites\n",
      "06/19/2019  08:28 PM                53 file.txt\n",
      "07/11/2019  03:09 PM               140 file1.txt\n",
      "05/09/2019  10:15 AM    <DIR>          Links\n",
      "05/09/2019  10:15 AM    <DIR>          Music\n",
      "05/09/2019  10:15 AM    <DIR>          Pictures\n",
      "05/09/2019  10:15 AM    <DIR>          Saved Games\n",
      "05/09/2019  10:15 AM    <DIR>          Searches\n",
      "05/10/2019  10:39 AM                 9 sort.txt\n",
      "05/09/2019  02:14 PM               555 Untitled.ipynb\n",
      "05/10/2019  12:27 PM             2,351 Untitled1.ipynb\n",
      "06/24/2019  05:51 PM               555 Untitled10.ipynb\n",
      "06/25/2019  03:51 PM             2,159 Untitled11.ipynb\n",
      "06/25/2019  04:29 PM             1,766 Untitled12.ipynb\n",
      "06/25/2019  08:32 PM             1,368 Untitled13.ipynb\n",
      "05/10/2019  12:03 PM               555 Untitled1-Copy1.ipynb\n",
      "05/11/2019  09:37 AM                72 Untitled2.ipynb\n",
      "05/12/2019  11:27 AM               960 Untitled3.ipynb\n",
      "05/18/2019  03:17 PM               809 Untitled4.ipynb\n",
      "05/18/2019  03:19 PM                72 Untitled5.ipynb\n",
      "05/18/2019  03:20 PM                72 Untitled6.ipynb\n",
      "05/18/2019  03:23 PM               555 Untitled7.ipynb\n",
      "06/22/2019  04:39 PM             3,526 Untitled8.ipynb\n",
      "06/24/2019  04:28 PM             5,678 Untitled9.ipynb\n",
      "05/09/2019  10:15 AM    <DIR>          Videos\n",
      "03/17/2017  10:15 AM    <DIR>          workspace\n",
      "              33 File(s)        144,965 bytes\n",
      "              24 Dir(s)  79,193,051,136 bytes free\n"
     ]
    }
   ],
   "source": [
    "ls"
   ]
  },
  {
   "cell_type": "code",
   "execution_count": 9,
   "metadata": {},
   "outputs": [
    {
     "name": "stdout",
     "output_type": "stream",
     "text": [
      "file is created and data is written\n"
     ]
    }
   ],
   "source": [
    "def createfile(filename):\n",
    "    f=open(filename,'w')\n",
    "    f.write('testing..\\n ')\n",
    "    print(\"file is created and data is written\")\n",
    "    return\n",
    "createfile(\"file1.txt\")"
   ]
  },
  {
   "cell_type": "code",
   "execution_count": 24,
   "metadata": {},
   "outputs": [
    {
     "name": "stdout",
     "output_type": "stream",
     "text": [
      "This is 0 line\n",
      "This is 1 line\n",
      "This is 2 line\n",
      "This is 3 line\n",
      "This is 4 line\n",
      "This is 5 line\n",
      "This is 6 line\n",
      "This is 7 line\n",
      "This is 8 line\n",
      "This is 9 line\n",
      "file created and successfully data is written\n"
     ]
    }
   ],
   "source": [
    "def appenddata(filename):\n",
    "    f=open(filename,'a')\n",
    "    for i in range(10):\n",
    "        print('This is %d line'%i)\n",
    "    print('file created and successfully data is written')\n",
    "    return\n",
    "appenddata('file2.txt')"
   ]
  },
  {
   "cell_type": "code",
   "execution_count": 29,
   "metadata": {},
   "outputs": [
    {
     "name": "stdout",
     "output_type": "stream",
     "text": [
      "file created and successfully data is written\n"
     ]
    }
   ],
   "source": [
    "def appenddata(filename):\n",
    "    f=open(filename,'a')\n",
    "    for i in range(10):\n",
    "        f.write('this is %d line'%i)\n",
    "    print('file created and successfully data is written')\n",
    "    return\n",
    "appenddata('file2.txt')"
   ]
  },
  {
   "cell_type": "code",
   "execution_count": 21,
   "metadata": {},
   "outputs": [
    {
     "name": "stdout",
     "output_type": "stream",
     "text": [
      "file created and successfully data is written\n"
     ]
    }
   ],
   "source": [
    "def appenddata(filename):\n",
    "    f=open(filename,'a')\n",
    "    f.write(\"New line 1\\n\")\n",
    "    f.write(\"New line 2\\n\")\n",
    "    print('file created and successfully data is written')\n",
    "    return\n",
    "appenddata('file3.txt')"
   ]
  },
  {
   "cell_type": "code",
   "execution_count": 12,
   "metadata": {},
   "outputs": [
    {
     "name": "stdout",
     "output_type": "stream",
     "text": [
      "new line 1\n",
      "new line 2\n",
      "data to the file\n"
     ]
    }
   ],
   "source": [
    "### function to read the file\n",
    "def readfiledata(filename):\n",
    "    f=open(filename,'r')\n",
    "    if f.mode=='r':\n",
    "        x=f.read()\n",
    "        print(x)\n",
    "    f.close()\n",
    "    return\n",
    "readfiledata('file3.txt')"
   ]
  },
  {
   "cell_type": "code",
   "execution_count": 1,
   "metadata": {},
   "outputs": [
    {
     "name": "stdout",
     "output_type": "stream",
     "text": [
      "enter the filenamefile3.txt\n",
      "enter the mode of the filea\n",
      "data successfully written\n"
     ]
    }
   ],
   "source": [
    "#function to read the file\n",
    "def readfile2(filename,mode):\n",
    "    with open(filename,mode) as f:\n",
    "        if f.mode=='r':\n",
    "            data=f.read()\n",
    "            print(data)\n",
    "        elif f.mode=='a':\n",
    "            f.write('data to the file')\n",
    "            print(\"data successfully written\")\n",
    "    f.close()\n",
    "    return\n",
    "filename=input(\"enter the filename\")\n",
    "mode=input(\"enter the mode of the file\")\n",
    "readfile2(filename,mode)"
   ]
  },
  {
   "cell_type": "code",
   "execution_count": 1,
   "metadata": {},
   "outputs": [
    {
     "name": "stdout",
     "output_type": "stream",
     "text": [
      "enter the filenamefile2.txt\n",
      "enter the word:this\n"
     ]
    },
    {
     "data": {
      "text/plain": [
       "12"
      ]
     },
     "execution_count": 1,
     "metadata": {},
     "output_type": "execute_result"
    }
   ],
   "source": [
    "#data analysis\n",
    "#word count program\n",
    "def wordcount(filename,word):\n",
    "    with open(filename,'r') as f:\n",
    "        if f.mode=='r':\n",
    "            x=f.read()\n",
    "            li=x.split()\n",
    "    cnt=li.count(word)\n",
    "    return cnt\n",
    "filename=input(\"enter the filename\")\n",
    "word=input(\"enter the word:\")#which word count you need\n",
    "wordcount(filename,word)"
   ]
  },
  {
   "cell_type": "code",
   "execution_count": 39,
   "metadata": {},
   "outputs": [],
   "source": [
    "#character count from the given file\n",
    "def charactercount(filename):\n",
    "    with open(filename,'r') as f:\n",
    "        if f.mode=='r':\n",
    "            x=f.read()\n",
    "            li=list(x)\n",
    "    return len(li)"
   ]
  },
  {
   "cell_type": "code",
   "execution_count": 13,
   "metadata": {},
   "outputs": [
    {
     "name": "stdout",
     "output_type": "stream",
     "text": [
      "enter the filename :file2.txt\n"
     ]
    },
    {
     "data": {
      "text/plain": [
       "13"
      ]
     },
     "execution_count": 13,
     "metadata": {},
     "output_type": "execute_result"
    }
   ],
   "source": [
    "# function to find the no of items in input file\n",
    "def itemscount(filename):\n",
    "    with open(filename,'r') as f:\n",
    "        if f.mode=='r':\n",
    "            x=f.read()\n",
    "            li=x.split('\\n')\n",
    "    return len(li)\n",
    "filename=input(\"enter the filename :\")\n",
    "itemscount(filename)"
   ]
  },
  {
   "cell_type": "code",
   "execution_count": 26,
   "metadata": {},
   "outputs": [
    {
     "name": "stdout",
     "output_type": "stream",
     "text": [
      "enter the file name :file3.txt\n"
     ]
    },
    {
     "data": {
      "text/plain": [
       "'upper case=2,lower case=39'"
      ]
     },
     "execution_count": 26,
     "metadata": {},
     "output_type": "execute_result"
    }
   ],
   "source": [
    "#function to print upper and lower case characters\n",
    "def casecount(filename):\n",
    "    cntupper=0\n",
    "    cntlower=0\n",
    "    with open(filename,'r') as f:\n",
    "        if f.mode=='r':\n",
    "            x=f.read()\n",
    "            li=list(x)\n",
    "    for i in li:\n",
    "        if i.isupper():\n",
    "            cntupper+=1\n",
    "        elif i.islower():\n",
    "            cntlower+=1\n",
    "    output='upper case={0},lower case={1}'.format(cntupper,cntlower)\n",
    "    return output\n",
    "filename=input(\"enter the file name :\")\n",
    "casecount(filename)"
   ]
  },
  {
   "cell_type": "markdown",
   "metadata": {},
   "source": [
    "### math,random,os\n",
    "--> on packagee it contains the certain methods which works with OS\n",
    "listdir()---->ls\n",
    "old version python--> os.listdir\n",
    "new version python-->os.scandir and pathlib.Path()\n"
   ]
  },
  {
   "cell_type": "markdown",
   "metadata": {},
   "source": [
    "### listing sub directories"
   ]
  },
  {
   "cell_type": "code",
   "execution_count": null,
   "metadata": {},
   "outputs": [],
   "source": [
    "import os\n",
    "dirpath='users/'\n",
    "for i in os.listdir(dirpath):#all files from the directory\n",
    "    if os.path.isdir(os.path.join(dirpath,i)):\n",
    "        print(i)"
   ]
  },
  {
   "cell_type": "code",
   "execution_count": 48,
   "metadata": {},
   "outputs": [
    {
     "name": "stdout",
     "output_type": "stream",
     "text": [
      "C:\\Users\\239\n"
     ]
    }
   ],
   "source": [
    "cd C:\\Users\\239"
   ]
  },
  {
   "cell_type": "code",
   "execution_count": 49,
   "metadata": {},
   "outputs": [
    {
     "name": "stdout",
     "output_type": "stream",
     "text": [
      " Volume in drive C has no label.\n",
      " Volume Serial Number is 7EC0-E62F\n",
      "\n",
      " Directory of C:\\Users\\239\n",
      "\n",
      "05/09/2019  11:41 AM             3,525  Day 6 -PYTHON.ipynb\n",
      "07/11/2019  07:59 PM    <DIR>          .\n",
      "07/11/2019  07:59 PM    <DIR>          ..\n",
      "05/18/2019  03:15 PM    <DIR>          .anaconda\n",
      "03/14/2017  12:34 PM               145 .appletviewer\n",
      "06/19/2019  11:02 PM               308 .bash_history\n",
      "11/02/2017  03:10 PM                 0 .cdtclient\n",
      "05/18/2019  06:31 PM    <DIR>          .conda\n",
      "05/18/2019  03:18 PM                43 .condarc\n",
      "09/24/2018  02:50 PM    <DIR>          .eclipse\n",
      "07/11/2019  02:51 PM    <DIR>          .ipynb_checkpoints\n",
      "05/09/2019  10:39 AM    <DIR>          .ipython\n",
      "09/24/2018  02:50 PM    <DIR>          .jmc\n",
      "05/18/2019  03:18 PM    <DIR>          .jupyter\n",
      "05/09/2019  02:39 PM    <DIR>          .matplotlib\n",
      "11/15/2018  03:01 PM    <DIR>          .oracle_jre_usage\n",
      "07/08/2019  03:13 PM             9,957 06-July-2019.ipynb\n",
      "07/08/2019  09:28 PM            10,275 08-July-2019.ipynb\n",
      "07/09/2019  09:24 PM            15,847 09-July-2019.ipynb\n",
      "07/10/2019  10:07 PM            20,028 10-July-2019.ipynb\n",
      "05/10/2019  03:37 PM            15,124 10May2019.ipynb\n",
      "05/12/2019  11:04 AM             7,239 11_may_2019.ipynb\n",
      "07/11/2019  07:59 PM            13,700 11-July-2019.ipynb\n",
      "05/09/2019  10:25 AM    <DIR>          Anaconda3\n",
      "07/10/2019  08:08 PM             2,027 assignment(09-July-20190.ipynb\n",
      "07/10/2019  10:44 PM            10,672 assignment(10-July-2019).ipynb\n",
      "05/09/2019  10:15 AM    <DIR>          Contacts\n",
      "05/09/2019  03:48 PM            22,732 Day 4 -PYTHON.ipynb\n",
      "07/10/2019  09:57 PM    <DIR>          Desktop\n",
      "06/20/2019  08:23 PM    <DIR>          Documents\n",
      "07/05/2019  05:33 PM    <DIR>          Downloads\n",
      "05/09/2019  10:15 AM    <DIR>          Favorites\n",
      "06/19/2019  08:28 PM                53 file.txt\n",
      "07/11/2019  03:30 PM                12 file1.txt\n",
      "07/11/2019  04:03 PM               604 file2.txt\n",
      "07/11/2019  05:53 PM                64 file3.txt\n",
      "05/09/2019  10:15 AM    <DIR>          Links\n",
      "05/09/2019  10:15 AM    <DIR>          Music\n",
      "05/09/2019  10:15 AM    <DIR>          Pictures\n",
      "05/09/2019  10:15 AM    <DIR>          Saved Games\n",
      "05/09/2019  10:15 AM    <DIR>          Searches\n",
      "05/10/2019  10:39 AM                 9 sort.txt\n",
      "05/09/2019  02:14 PM               555 Untitled.ipynb\n",
      "05/10/2019  12:27 PM             2,351 Untitled1.ipynb\n",
      "06/24/2019  05:51 PM               555 Untitled10.ipynb\n",
      "06/25/2019  03:51 PM             2,159 Untitled11.ipynb\n",
      "06/25/2019  04:29 PM             1,766 Untitled12.ipynb\n",
      "06/25/2019  08:32 PM             1,368 Untitled13.ipynb\n",
      "05/10/2019  12:03 PM               555 Untitled1-Copy1.ipynb\n",
      "05/11/2019  09:37 AM                72 Untitled2.ipynb\n",
      "05/12/2019  11:27 AM               960 Untitled3.ipynb\n",
      "05/18/2019  03:17 PM               809 Untitled4.ipynb\n",
      "05/18/2019  03:19 PM                72 Untitled5.ipynb\n",
      "05/18/2019  03:20 PM                72 Untitled6.ipynb\n",
      "05/18/2019  03:23 PM               555 Untitled7.ipynb\n",
      "06/22/2019  04:39 PM             3,526 Untitled8.ipynb\n",
      "06/24/2019  04:28 PM             5,678 Untitled9.ipynb\n",
      "05/09/2019  10:15 AM    <DIR>          Videos\n",
      "03/17/2017  10:15 AM    <DIR>          workspace\n",
      "              35 File(s)        153,417 bytes\n",
      "              24 Dir(s)  79,188,283,392 bytes free\n"
     ]
    }
   ],
   "source": [
    "ls"
   ]
  },
  {
   "cell_type": "code",
   "execution_count": 69,
   "metadata": {},
   "outputs": [
    {
     "data": {
      "text/plain": [
       "'C:\\\\Users\\\\239'"
      ]
     },
     "execution_count": 69,
     "metadata": {},
     "output_type": "execute_result"
    }
   ],
   "source": [
    "pwd"
   ]
  },
  {
   "cell_type": "code",
   "execution_count": null,
   "metadata": {},
   "outputs": [],
   "source": [
    "dirpath='git/'\n",
    "with os.scandir(dirpath) as f:\n",
    "    for i in f:\n",
    "        if i.is_dir():\n",
    "            print(i,name)"
   ]
  },
  {
   "cell_type": "markdown",
   "metadata": {},
   "source": [
    "### creating a single directory"
   ]
  },
  {
   "cell_type": "code",
   "execution_count": 7,
   "metadata": {},
   "outputs": [],
   "source": [
    "os.mkdir('singledirectory')"
   ]
  },
  {
   "cell_type": "code",
   "execution_count": 19,
   "metadata": {},
   "outputs": [
    {
     "ename": "FileExistsError",
     "evalue": "[WinError 183] Cannot create a file when that file already exists: 'git'",
     "output_type": "error",
     "traceback": [
      "\u001b[1;31m---------------------------------------------------------------------------\u001b[0m",
      "\u001b[1;31mFileExistsError\u001b[0m                           Traceback (most recent call last)",
      "\u001b[1;32m<ipython-input-19-caf55fcfae37>\u001b[0m in \u001b[0;36m<module>\u001b[1;34m\u001b[0m\n\u001b[0;32m      1\u001b[0m \u001b[1;32mimport\u001b[0m \u001b[0mpathlib\u001b[0m\u001b[1;33m\u001b[0m\u001b[1;33m\u001b[0m\u001b[0m\n\u001b[0;32m      2\u001b[0m \u001b[0mp\u001b[0m\u001b[1;33m=\u001b[0m\u001b[0mpathlib\u001b[0m\u001b[1;33m.\u001b[0m\u001b[0mPath\u001b[0m\u001b[1;33m(\u001b[0m\u001b[1;34m\"git\"\u001b[0m\u001b[1;33m)\u001b[0m\u001b[1;33m\u001b[0m\u001b[1;33m\u001b[0m\u001b[0m\n\u001b[1;32m----> 3\u001b[1;33m \u001b[0mp\u001b[0m\u001b[1;33m.\u001b[0m\u001b[0mmkdir\u001b[0m\u001b[1;33m(\u001b[0m\u001b[1;33m)\u001b[0m\u001b[1;33m\u001b[0m\u001b[1;33m\u001b[0m\u001b[0m\n\u001b[0m",
      "\u001b[1;32m~\\Anaconda3\\lib\\pathlib.py\u001b[0m in \u001b[0;36mmkdir\u001b[1;34m(self, mode, parents, exist_ok)\u001b[0m\n\u001b[0;32m   1249\u001b[0m             \u001b[0mself\u001b[0m\u001b[1;33m.\u001b[0m\u001b[0m_raise_closed\u001b[0m\u001b[1;33m(\u001b[0m\u001b[1;33m)\u001b[0m\u001b[1;33m\u001b[0m\u001b[1;33m\u001b[0m\u001b[0m\n\u001b[0;32m   1250\u001b[0m         \u001b[1;32mtry\u001b[0m\u001b[1;33m:\u001b[0m\u001b[1;33m\u001b[0m\u001b[1;33m\u001b[0m\u001b[0m\n\u001b[1;32m-> 1251\u001b[1;33m             \u001b[0mself\u001b[0m\u001b[1;33m.\u001b[0m\u001b[0m_accessor\u001b[0m\u001b[1;33m.\u001b[0m\u001b[0mmkdir\u001b[0m\u001b[1;33m(\u001b[0m\u001b[0mself\u001b[0m\u001b[1;33m,\u001b[0m \u001b[0mmode\u001b[0m\u001b[1;33m)\u001b[0m\u001b[1;33m\u001b[0m\u001b[1;33m\u001b[0m\u001b[0m\n\u001b[0m\u001b[0;32m   1252\u001b[0m         \u001b[1;32mexcept\u001b[0m \u001b[0mFileNotFoundError\u001b[0m\u001b[1;33m:\u001b[0m\u001b[1;33m\u001b[0m\u001b[1;33m\u001b[0m\u001b[0m\n\u001b[0;32m   1253\u001b[0m             \u001b[1;32mif\u001b[0m \u001b[1;32mnot\u001b[0m \u001b[0mparents\u001b[0m \u001b[1;32mor\u001b[0m \u001b[0mself\u001b[0m\u001b[1;33m.\u001b[0m\u001b[0mparent\u001b[0m \u001b[1;33m==\u001b[0m \u001b[0mself\u001b[0m\u001b[1;33m:\u001b[0m\u001b[1;33m\u001b[0m\u001b[1;33m\u001b[0m\u001b[0m\n",
      "\u001b[1;31mFileExistsError\u001b[0m: [WinError 183] Cannot create a file when that file already exists: 'git'"
     ]
    }
   ],
   "source": [
    "import pathlib\n",
    "p=pathlib.Path(\"git\")\n",
    "p.mkdir()"
   ]
  },
  {
   "cell_type": "code",
   "execution_count": 10,
   "metadata": {},
   "outputs": [
    {
     "data": {
      "text/plain": [
       "'C:\\\\Users\\\\239'"
      ]
     },
     "execution_count": 10,
     "metadata": {},
     "output_type": "execute_result"
    }
   ],
   "source": [
    "pwd"
   ]
  },
  {
   "cell_type": "code",
   "execution_count": 16,
   "metadata": {},
   "outputs": [
    {
     "name": "stdout",
     "output_type": "stream",
     "text": [
      " Volume in drive C has no label.\n",
      " Volume Serial Number is 7EC0-E62F\n",
      "\n",
      " Directory of C:\\Users\\239\n",
      "\n",
      "05/09/2019  11:41 AM             3,525  Day 6 -PYTHON.ipynb\n",
      "07/11/2019  08:26 PM    <DIR>          .\n",
      "07/11/2019  08:26 PM    <DIR>          ..\n",
      "05/18/2019  03:15 PM    <DIR>          .anaconda\n",
      "03/14/2017  12:34 PM               145 .appletviewer\n",
      "06/19/2019  11:02 PM               308 .bash_history\n",
      "11/02/2017  03:10 PM                 0 .cdtclient\n",
      "05/18/2019  06:31 PM    <DIR>          .conda\n",
      "05/18/2019  03:18 PM                43 .condarc\n",
      "09/24/2018  02:50 PM    <DIR>          .eclipse\n",
      "07/11/2019  02:51 PM    <DIR>          .ipynb_checkpoints\n",
      "05/09/2019  10:39 AM    <DIR>          .ipython\n",
      "09/24/2018  02:50 PM    <DIR>          .jmc\n",
      "05/18/2019  03:18 PM    <DIR>          .jupyter\n",
      "05/09/2019  02:39 PM    <DIR>          .matplotlib\n",
      "11/15/2018  03:01 PM    <DIR>          .oracle_jre_usage\n",
      "07/08/2019  03:13 PM             9,957 06-July-2019.ipynb\n",
      "07/08/2019  09:28 PM            10,275 08-July-2019.ipynb\n",
      "07/09/2019  09:24 PM            15,847 09-July-2019.ipynb\n",
      "07/10/2019  10:07 PM            20,028 10-July-2019.ipynb\n",
      "05/10/2019  03:37 PM            15,124 10May2019.ipynb\n",
      "05/12/2019  11:04 AM             7,239 11_may_2019.ipynb\n",
      "07/11/2019  08:25 PM            19,528 11-July-2019.ipynb\n",
      "05/09/2019  10:25 AM    <DIR>          Anaconda3\n",
      "07/10/2019  08:08 PM             2,027 assignment(09-July-20190.ipynb\n",
      "07/10/2019  10:44 PM            10,672 assignment(10-July-2019).ipynb\n",
      "05/09/2019  10:15 AM    <DIR>          Contacts\n",
      "05/09/2019  03:48 PM            22,732 Day 4 -PYTHON.ipynb\n",
      "07/10/2019  09:57 PM    <DIR>          Desktop\n",
      "06/20/2019  08:23 PM    <DIR>          Documents\n",
      "07/05/2019  05:33 PM    <DIR>          Downloads\n",
      "05/09/2019  10:15 AM    <DIR>          Favorites\n",
      "06/19/2019  08:28 PM                53 file.txt\n",
      "07/11/2019  03:30 PM                12 file1.txt\n",
      "07/11/2019  04:03 PM               604 file2.txt\n",
      "07/11/2019  05:53 PM                64 file3.txt\n",
      "07/11/2019  08:22 PM    <DIR>          git\n",
      "05/09/2019  10:15 AM    <DIR>          Links\n",
      "05/09/2019  10:15 AM    <DIR>          Music\n",
      "05/09/2019  10:15 AM    <DIR>          Pictures\n",
      "05/09/2019  10:15 AM    <DIR>          Saved Games\n",
      "05/09/2019  10:15 AM    <DIR>          Searches\n",
      "07/11/2019  08:26 PM    <DIR>          single directory\n",
      "07/11/2019  08:22 PM    <DIR>          singledirectory\n",
      "05/10/2019  10:39 AM                 9 sort.txt\n",
      "05/09/2019  02:14 PM               555 Untitled.ipynb\n",
      "05/10/2019  12:27 PM             2,351 Untitled1.ipynb\n",
      "06/24/2019  05:51 PM               555 Untitled10.ipynb\n",
      "06/25/2019  03:51 PM             2,159 Untitled11.ipynb\n",
      "06/25/2019  04:29 PM             1,766 Untitled12.ipynb\n",
      "06/25/2019  08:32 PM             1,368 Untitled13.ipynb\n",
      "05/10/2019  12:03 PM               555 Untitled1-Copy1.ipynb\n",
      "05/11/2019  09:37 AM                72 Untitled2.ipynb\n",
      "05/12/2019  11:27 AM               960 Untitled3.ipynb\n",
      "05/18/2019  03:17 PM               809 Untitled4.ipynb\n",
      "05/18/2019  03:19 PM                72 Untitled5.ipynb\n",
      "05/18/2019  03:20 PM                72 Untitled6.ipynb\n",
      "05/18/2019  03:23 PM               555 Untitled7.ipynb\n",
      "06/22/2019  04:39 PM             3,526 Untitled8.ipynb\n",
      "06/24/2019  04:28 PM             5,678 Untitled9.ipynb\n",
      "05/09/2019  10:15 AM    <DIR>          Videos\n",
      "03/17/2017  10:15 AM    <DIR>          workspace\n",
      "              35 File(s)        159,245 bytes\n",
      "              27 Dir(s)  79,186,448,384 bytes free\n"
     ]
    }
   ],
   "source": [
    "ls"
   ]
  },
  {
   "cell_type": "code",
   "execution_count": 17,
   "metadata": {},
   "outputs": [
    {
     "name": "stdout",
     "output_type": "stream",
     "text": [
      "C:\\Users\\239\\single directory\n"
     ]
    }
   ],
   "source": [
    "cd single directory"
   ]
  },
  {
   "cell_type": "code",
   "execution_count": 18,
   "metadata": {},
   "outputs": [
    {
     "name": "stdout",
     "output_type": "stream",
     "text": [
      "C:\\Users\\239\n"
     ]
    }
   ],
   "source": [
    "cd .."
   ]
  },
  {
   "cell_type": "code",
   "execution_count": 20,
   "metadata": {},
   "outputs": [
    {
     "name": "stdout",
     "output_type": "stream",
     "text": [
      "C:\\Users\\239\\git\n"
     ]
    }
   ],
   "source": [
    "cd git"
   ]
  },
  {
   "cell_type": "code",
   "execution_count": 21,
   "metadata": {},
   "outputs": [
    {
     "name": "stdout",
     "output_type": "stream",
     "text": [
      "[WinError 2] The system cannot find the file specified: 'singledirectory'\n",
      "C:\\Users\\239\\git\n"
     ]
    }
   ],
   "source": [
    "cd singledirectory"
   ]
  },
  {
   "cell_type": "code",
   "execution_count": 22,
   "metadata": {},
   "outputs": [
    {
     "name": "stdout",
     "output_type": "stream",
     "text": [
      "[WinError 2] The system cannot find the file specified: 'single directory'\n",
      "C:\\Users\\239\\git\n"
     ]
    }
   ],
   "source": [
    "cd single directory"
   ]
  },
  {
   "cell_type": "code",
   "execution_count": 23,
   "metadata": {},
   "outputs": [],
   "source": [
    "import pathlib\n",
    "p=pathlib.Path(\"gitam-python\")\n",
    "p.mkdir()"
   ]
  },
  {
   "cell_type": "code",
   "execution_count": 24,
   "metadata": {},
   "outputs": [
    {
     "name": "stdout",
     "output_type": "stream",
     "text": [
      "C:\\Users\\239\\git\\gitam-python\n"
     ]
    }
   ],
   "source": [
    "cd gitam-python"
   ]
  },
  {
   "cell_type": "code",
   "execution_count": 25,
   "metadata": {},
   "outputs": [
    {
     "data": {
      "text/plain": [
       "'C:\\\\Users\\\\239\\\\git\\\\gitam-python'"
      ]
     },
     "execution_count": 25,
     "metadata": {},
     "output_type": "execute_result"
    }
   ],
   "source": [
    "pwd"
   ]
  },
  {
   "cell_type": "code",
   "execution_count": 44,
   "metadata": {},
   "outputs": [
    {
     "name": "stdout",
     "output_type": "stream",
     "text": [
      " Volume in drive C has no label.\n",
      " Volume Serial Number is 7EC0-E62F\n",
      "\n",
      " Directory of C:\\Users\\239\\git\\gitam-python\n",
      "\n",
      "07/11/2019  08:29 PM    <DIR>          .\n",
      "07/11/2019  08:29 PM    <DIR>          ..\n",
      "               0 File(s)              0 bytes\n",
      "               2 Dir(s)  79,185,547,264 bytes free\n"
     ]
    }
   ],
   "source": [
    "ls"
   ]
  },
  {
   "cell_type": "code",
   "execution_count": 43,
   "metadata": {},
   "outputs": [
    {
     "name": "stdout",
     "output_type": "stream",
     "text": [
      "$Recycle.Bin\n",
      "42\n",
      "cs11 43\n",
      "Documents and Settings\n",
      "Flex Windows\n",
      "MSOCache\n",
      "New folder\n",
      "oraclexe\n",
      "Pearson\n",
      "PerfLogs\n",
      "Program Files\n",
      "ProgramData\n",
      "Recovery\n",
      "System Volume Information\n",
      "TURBOC3\n",
      "Users\n",
      "Windows\n",
      "wt\n"
     ]
    }
   ],
   "source": [
    "import os\n",
    "dirpath='C:/'\n",
    "for i in os.listdir(dirpath):#all files from the directory\n",
    "    if os.path.isdir(os.path.join(dirpath,i)):\n",
    "        print(i)"
   ]
  },
  {
   "cell_type": "markdown",
   "metadata": {},
   "source": [
    "### filename pattern matching"
   ]
  },
  {
   "cell_type": "code",
   "execution_count": null,
   "metadata": {},
   "outputs": [],
   "source": [
    "import os\n",
    "dirpath='git/'\n",
    "for f_name in os.listdir(dirpath):\n",
    "    if f_name.startswith('0'):\n",
    "        print(f_name)"
   ]
  },
  {
   "cell_type": "markdown",
   "metadata": {},
   "source": [
    "###  deleting files and directories "
   ]
  },
  {
   "cell_type": "code",
   "execution_count": null,
   "metadata": {},
   "outputs": [],
   "source": [
    "import os\n",
    "data_file='file1.txt'#gives the entire path\n",
    "os.remove(data_file)"
   ]
  },
  {
   "cell_type": "code",
   "execution_count": null,
   "metadata": {},
   "outputs": [],
   "source": [
    "import shutil#delete the tree of structure of folder\n",
    "data_dir='2019'\n",
    "shutil.return(data_dir)"
   ]
  },
  {
   "cell_type": "markdown",
   "metadata": {},
   "source": [
    "### regular expressions\n",
    "---- used to specific pattern matching\n",
    "---- symbolic notations of pattern\n",
    "     patterns(RE)-:used to represent set of elements\n",
    "     "
   ]
  }
 ],
 "metadata": {
  "kernelspec": {
   "display_name": "Python 3",
   "language": "python",
   "name": "python3"
  },
  "language_info": {
   "codemirror_mode": {
    "name": "ipython",
    "version": 3
   },
   "file_extension": ".py",
   "mimetype": "text/x-python",
   "name": "python",
   "nbconvert_exporter": "python",
   "pygments_lexer": "ipython3",
   "version": "3.7.3"
  }
 },
 "nbformat": 4,
 "nbformat_minor": 2
}
