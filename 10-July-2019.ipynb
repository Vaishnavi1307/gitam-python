{
 "cells": [
  {
   "cell_type": "markdown",
   "metadata": {},
   "source": [
    "### tuples\n",
    "- t1 parenthesis() li squarebrackets[]\n",
    "- difference between lists and tuples\n",
    "     -list are mutable- can be changed/modified\n",
    "          -used to access modify,add,delete data\n",
    "     -tuples are unmutable-cannot be changed\n",
    "          -used to access data only"
   ]
  },
  {
   "cell_type": "markdown",
   "metadata": {},
   "source": [
    "## data structures\n",
    "1. it works on the concept of set unique data\n",
    "2. keys,values are the unique identifiers for the value\n",
    "3. each key is seperated from its value with colon(:)\n",
    "4. each key and value is seperated by comma(,)\n",
    "5. dictionaries enclosed by curly brackets({)"
   ]
  },
  {
   "cell_type": "code",
   "execution_count": 1,
   "metadata": {},
   "outputs": [
    {
     "name": "stdout",
     "output_type": "stream",
     "text": [
      "{'name': 'gitam', 'mail': 'gitam@gmail.com', 'address': 'hyderabad'}\n"
     ]
    }
   ],
   "source": [
    "d1={\"name\":\"gitam\",\"mail\":\"gitam@gmail.com\",\"address\":\"hyderabad\"}\n",
    "print(d1)"
   ]
  },
  {
   "cell_type": "code",
   "execution_count": 3,
   "metadata": {},
   "outputs": [],
   "source": [
    "d1[\"mail\"]=\"gitam-python@gmail.com\""
   ]
  },
  {
   "cell_type": "code",
   "execution_count": 4,
   "metadata": {},
   "outputs": [
    {
     "data": {
      "text/plain": [
       "'gitam-python@gmail.com'"
      ]
     },
     "execution_count": 4,
     "metadata": {},
     "output_type": "execute_result"
    }
   ],
   "source": [
    "d1[\"mail\"]"
   ]
  },
  {
   "cell_type": "code",
   "execution_count": 6,
   "metadata": {},
   "outputs": [
    {
     "ename": "KeyError",
     "evalue": "'mail'",
     "output_type": "error",
     "traceback": [
      "\u001b[1;31m---------------------------------------------------------------------------\u001b[0m",
      "\u001b[1;31mKeyError\u001b[0m                                  Traceback (most recent call last)",
      "\u001b[1;32m<ipython-input-6-f367fc46d67c>\u001b[0m in \u001b[0;36m<module>\u001b[1;34m\u001b[0m\n\u001b[1;32m----> 1\u001b[1;33m \u001b[1;32mdel\u001b[0m \u001b[0md1\u001b[0m\u001b[1;33m[\u001b[0m\u001b[1;34m\"mail\"\u001b[0m\u001b[1;33m]\u001b[0m\u001b[1;31m#delete the specific element\u001b[0m\u001b[1;33m\u001b[0m\u001b[1;33m\u001b[0m\u001b[0m\n\u001b[0m",
      "\u001b[1;31mKeyError\u001b[0m: 'mail'"
     ]
    }
   ],
   "source": [
    "del d1[\"mail\"] #delete the specific element"
   ]
  },
  {
   "cell_type": "code",
   "execution_count": 8,
   "metadata": {},
   "outputs": [
    {
     "data": {
      "text/plain": [
       "{'name': 'gitam', 'address': 'hyderabad'}"
      ]
     },
     "execution_count": 8,
     "metadata": {},
     "output_type": "execute_result"
    }
   ],
   "source": [
    "d1"
   ]
  },
  {
   "cell_type": "code",
   "execution_count": 11,
   "metadata": {},
   "outputs": [
    {
     "data": {
      "text/plain": [
       "dict_keys(['name', 'address'])"
      ]
     },
     "execution_count": 11,
     "metadata": {},
     "output_type": "execute_result"
    }
   ],
   "source": [
    "d1.keys()#gives the list of keys"
   ]
  },
  {
   "cell_type": "code",
   "execution_count": 12,
   "metadata": {},
   "outputs": [
    {
     "data": {
      "text/plain": [
       "dict_values(['gitam', 'hyderabad'])"
      ]
     },
     "execution_count": 12,
     "metadata": {},
     "output_type": "execute_result"
    }
   ],
   "source": [
    "d1.values() #gives the list of values"
   ]
  },
  {
   "cell_type": "code",
   "execution_count": 13,
   "metadata": {},
   "outputs": [
    {
     "data": {
      "text/plain": [
       "dict_items([('name', 'gitam'), ('address', 'hyderabad')])"
      ]
     },
     "execution_count": 13,
     "metadata": {},
     "output_type": "execute_result"
    }
   ],
   "source": [
    "d1.items()#gives the list of tuples of keys and values"
   ]
  },
  {
   "cell_type": "code",
   "execution_count": 14,
   "metadata": {},
   "outputs": [
    {
     "data": {
      "text/plain": [
       "set"
      ]
     },
     "execution_count": 14,
     "metadata": {},
     "output_type": "execute_result"
    }
   ],
   "source": [
    "## tuples\n",
    "t1={1,2,3,4,5}\n",
    "t1\n",
    "type(t1)"
   ]
  },
  {
   "cell_type": "markdown",
   "metadata": {},
   "source": [
    "### contact application\n",
    "-add contact\n",
    "-search the contact\n",
    "-list all contacts\n",
    "     name1:phone1\n",
    "     name2:phone2\n",
    "-modify the contact\n",
    "-remove the contact\n",
    "-import the contact"
   ]
  },
  {
   "cell_type": "code",
   "execution_count": 17,
   "metadata": {},
   "outputs": [
    {
     "name": "stdout",
     "output_type": "stream",
     "text": [
      "contact details are added\n",
      "contact details already exists\n"
     ]
    }
   ],
   "source": [
    "#add contact\n",
    "contacts={} #creating a dict object\n",
    "def addcontact(name,phone):\n",
    "    if name not in contacts:\n",
    "        contacts[name]=phone\n",
    "        print(\"contact details are added\")\n",
    "    else:\n",
    "        print(\"contact details already exists\")\n",
    "    return\n",
    "addcontact('xyz','327642')\n",
    "addcontact('xyz','327642')"
   ]
  },
  {
   "cell_type": "code",
   "execution_count": 18,
   "metadata": {},
   "outputs": [
    {
     "name": "stdout",
     "output_type": "stream",
     "text": [
      "xyz : 327642\n",
      "abc does not exists\n"
     ]
    }
   ],
   "source": [
    "#search for contact details\n",
    "def searchcontact(name):\n",
    "    if name in contacts:\n",
    "        print(name,\":\",contacts[name])\n",
    "    else:\n",
    "        print(\"%s does not exists\"%name)\n",
    "    return\n",
    "searchcontact('xyz')\n",
    "searchcontact('abc')"
   ]
  },
  {
   "cell_type": "code",
   "execution_count": 20,
   "metadata": {},
   "outputs": [
    {
     "name": "stdout",
     "output_type": "stream",
     "text": [
      "2 contacts added successfully\n"
     ]
    }
   ],
   "source": [
    "#import same contacts\n",
    "#merge the contacts with the existing one\n",
    "def importcontacts(newcontacts):\n",
    "    contacts.update(newcontacts)\n",
    "    print(len(newcontacts.keys()),\"contacts added successfully\")\n",
    "    return\n",
    "newcontacts={'pqr':123456,'abc':789456}\n",
    "importcontacts(newcontacts)"
   ]
  },
  {
   "cell_type": "code",
   "execution_count": 22,
   "metadata": {},
   "outputs": [
    {
     "data": {
      "text/plain": [
       "{'pqr': 123456, 'abc': 789456}"
      ]
     },
     "execution_count": 22,
     "metadata": {},
     "output_type": "execute_result"
    }
   ],
   "source": [
    "newcontacts"
   ]
  },
  {
   "cell_type": "code",
   "execution_count": 26,
   "metadata": {},
   "outputs": [
    {
     "name": "stdout",
     "output_type": "stream",
     "text": [
      "abc not exists\n",
      "xyz deleted successfully\n"
     ]
    }
   ],
   "source": [
    "#delete contact\n",
    "def deletecontact(name):\n",
    "    if name in contacts:\n",
    "        del contacts[name]\n",
    "        print(name,\"deleted successfully\")\n",
    "    else:\n",
    "        print(name,\"not exists\")\n",
    "    return\n",
    "deletecontact('abc')\n",
    "deletecontact('xyz')"
   ]
  },
  {
   "cell_type": "code",
   "execution_count": 30,
   "metadata": {},
   "outputs": [
    {
     "name": "stdout",
     "output_type": "stream",
     "text": [
      "pqr updated successfully\n",
      "ghj not exists\n"
     ]
    }
   ],
   "source": [
    "#update the contact details\n",
    "def deletecontact(name,phone):\n",
    "    if name in contacts:\n",
    "        contacts[name]=phone\n",
    "        print(name,\"updated successfully\")\n",
    "    else:\n",
    "        print(name,\"not exists\")\n",
    "    return\n",
    "deletecontact('pqr',789456)\n",
    "deletecontact('ghj',456123)"
   ]
  },
  {
   "cell_type": "code",
   "execution_count": 37,
   "metadata": {},
   "outputs": [
    {
     "name": "stdout",
     "output_type": "stream",
     "text": [
      "3 2 1 1 0 "
     ]
    }
   ],
   "source": [
    " # Python 3 Program to print Fibonacci \n",
    "# series in reverse order \n",
    "  \n",
    "def reverseFibonacci(n): \n",
    "   \n",
    "    a = [0] * n  \n",
    "  \n",
    "    # assigning first and second elements \n",
    "    a[0] = 0 \n",
    "    a[1] = 1 \n",
    "  \n",
    "    for i in range(2, n):   \n",
    "  \n",
    "        # storing sum in the \n",
    "        # preceding location \n",
    "        a[i] = a[i - 2] + a[i - 1]  \n",
    "       \n",
    "  \n",
    "    for i in range(n - 1, -1 , -1):   \n",
    "  \n",
    "        # printing array in \n",
    "        # reverse order \n",
    "        print(a[i],end=\" \")  \n",
    "       \n",
    "   \n",
    "  \n",
    "# Driver function \n",
    "n = 5\n",
    "reverseFibonacci(n)  "
   ]
  },
  {
   "cell_type": "code",
   "execution_count": 43,
   "metadata": {},
   "outputs": [
    {
     "data": {
      "text/plain": [
       "1"
      ]
     },
     "execution_count": 43,
     "metadata": {},
     "output_type": "execute_result"
    }
   ],
   "source": [
    "# python 2 qn\n",
    "li=[1,4,3,7,3,2]\n",
    "def linearsearch(li):\n",
    "    sum=0\n",
    "    for x in range(len(li)):\n",
    "        for \n",
    "    return -1\n",
    "linearsearch(li,3)"
   ]
  },
  {
   "cell_type": "code",
   "execution_count": 44,
   "metadata": {},
   "outputs": [
    {
     "data": {
      "text/plain": [
       "0"
      ]
     },
     "execution_count": 44,
     "metadata": {},
     "output_type": "execute_result"
    }
   ],
   "source": [
    "li=[\"ajfgf\"]\n",
    "li.count(1)"
   ]
  },
  {
   "cell_type": "code",
   "execution_count": 45,
   "metadata": {},
   "outputs": [
    {
     "ename": "SyntaxError",
     "evalue": "invalid syntax (<ipython-input-45-22b9140c9804>, line 1)",
     "output_type": "error",
     "traceback": [
      "\u001b[1;36m  File \u001b[1;32m\"<ipython-input-45-22b9140c9804>\"\u001b[1;36m, line \u001b[1;32m1\u001b[0m\n\u001b[1;33m    li1=[1,2,,3,4,5,6]\u001b[0m\n\u001b[1;37m             ^\u001b[0m\n\u001b[1;31mSyntaxError\u001b[0m\u001b[1;31m:\u001b[0m invalid syntax\n"
     ]
    }
   ],
   "source": [
    "li1=[1,2,,3,4,5,6]\n",
    "li2=[1,2]\n",
    "print(list(set(li1)-set(li2))"
   ]
  },
  {
   "cell_type": "markdown",
   "metadata": {},
   "source": [
    "## string formatting\n",
    "1.classical version\n",
    "2.current version\n"
   ]
  },
  {
   "cell_type": "code",
   "execution_count": 47,
   "metadata": {},
   "outputs": [
    {
     "name": "stdout",
     "output_type": "stream",
     "text": [
      "python programming\n"
     ]
    }
   ],
   "source": [
    "#classical version\n",
    "li=[\"python\",\"programming\"]\n",
    "print(\"%s %s\"%(li[0],li[1]))\n"
   ]
  },
  {
   "cell_type": "code",
   "execution_count": 50,
   "metadata": {},
   "outputs": [
    {
     "name": "stdout",
     "output_type": "stream",
     "text": [
      "python programming\n"
     ]
    }
   ],
   "source": [
    "print(\"{0} {1}\".format(li[0],li[1]))"
   ]
  },
  {
   "cell_type": "code",
   "execution_count": 53,
   "metadata": {},
   "outputs": [
    {
     "name": "stdout",
     "output_type": "stream",
     "text": [
      "1 2 3 4 \n"
     ]
    }
   ],
   "source": [
    "li1=[1,2,3,4]\n",
    "print(\"%d %d %d %d \"%(li1[0],li1[1],li1[2],li1[3]))"
   ]
  },
  {
   "cell_type": "code",
   "execution_count": 54,
   "metadata": {},
   "outputs": [
    {
     "name": "stdout",
     "output_type": "stream",
     "text": [
      "1 2 3 4\n"
     ]
    }
   ],
   "source": [
    "print(\"{0} {1} {2} {3}\".format(li1[0],li1[1],li1[2],li1[3]))"
   ]
  },
  {
   "cell_type": "markdown",
   "metadata": {},
   "source": [
    "## string functions\n",
    "1.upper()-converts the given string into upper case\n",
    "2.lower()-converts the given string into lower case"
   ]
  },
  {
   "cell_type": "code",
   "execution_count": 55,
   "metadata": {},
   "outputs": [
    {
     "name": "stdout",
     "output_type": "stream",
     "text": [
      "GITAM\n",
      "gitam\n"
     ]
    }
   ],
   "source": [
    "s1=\"Gitam\"\n",
    "print(s1.upper())\n",
    "print(s1.lower())"
   ]
  },
  {
   "cell_type": "markdown",
   "metadata": {},
   "source": [
    "### boolean functions(true or false)\n",
    "1. islower()-true is the string in lower or false if in upper case\n",
    "2. isupper()-true is the string in upper or false if in lower case\n",
    "3. istitle()-true if the string follows the title case\n",
    "4. isalpha()-true if the string has alphabets\n",
    "5. isnumeric()-true if the string has number\n",
    "6. isspace()-true if the string has a space"
   ]
  },
  {
   "cell_type": "code",
   "execution_count": 57,
   "metadata": {},
   "outputs": [
    {
     "name": "stdout",
     "output_type": "stream",
     "text": [
      "False\n",
      "True\n"
     ]
    }
   ],
   "source": [
    "s1=\"GITAM\"\n",
    "print(s1.islower())\n",
    "print(s1.isupper())"
   ]
  },
  {
   "cell_type": "code",
   "execution_count": 62,
   "metadata": {},
   "outputs": [
    {
     "name": "stdout",
     "output_type": "stream",
     "text": [
      "True\n",
      "False\n"
     ]
    }
   ],
   "source": [
    "s2=\"Python Programming\"\n",
    "s3=\"python programming\"\n",
    "print(s2.istitle())\n",
    "print(s3.istitle())"
   ]
  },
  {
   "cell_type": "code",
   "execution_count": 69,
   "metadata": {},
   "outputs": [
    {
     "name": "stdout",
     "output_type": "stream",
     "text": [
      "False\n",
      "True\n"
     ]
    }
   ],
   "source": [
    "s2=\"application2019\"\n",
    "s3=\"PythonProgramming\"\n",
    "print(s2.isalpha())\n",
    "print(s3.isalpha())"
   ]
  },
  {
   "cell_type": "code",
   "execution_count": 72,
   "metadata": {},
   "outputs": [
    {
     "name": "stdout",
     "output_type": "stream",
     "text": [
      "True\n",
      "False\n",
      "True\n",
      "False\n"
     ]
    }
   ],
   "source": [
    "s1=\"1234\"\n",
    "s2=\"gitam2019\"\n",
    "s3=\"  \"\n",
    "s4=\"1 2\"\n",
    "print(s1.isnumeric())\n",
    "print(s2.isnumeric())\n",
    "print(s3.isspace())\n",
    "print(s4.isspace())"
   ]
  },
  {
   "cell_type": "markdown",
   "metadata": {},
   "source": [
    "### string methods\n",
    "1. join()-method will concatinates the two strings\n",
    "2. split()-returns the list of strings seperated by whitespace"
   ]
  },
  {
   "cell_type": "code",
   "execution_count": null,
   "metadata": {},
   "outputs": [],
   "source": []
  },
  {
   "cell_type": "code",
   "execution_count": 74,
   "metadata": {},
   "outputs": [
    {
     "name": "stdout",
     "output_type": "stream",
     "text": [
      "P,y,t,h,o,n\n"
     ]
    }
   ],
   "source": [
    "s1=\"Python\"\n",
    "print(\",\".join(s1))"
   ]
  },
  {
   "cell_type": "code",
   "execution_count": 75,
   "metadata": {},
   "outputs": [
    {
     "name": "stdout",
     "output_type": "stream",
     "text": [
      "p,y,t,h,o,n, ,i,s, ,e,a,s,y, ,t,o, ,l,e,a,r,n\n"
     ]
    }
   ],
   "source": [
    "s2=\"python is easy to learn\"\n",
    "print(\",\".join(s2))"
   ]
  },
  {
   "cell_type": "code",
   "execution_count": 76,
   "metadata": {},
   "outputs": [
    {
     "name": "stdout",
     "output_type": "stream",
     "text": [
      "python,programming,learn\n"
     ]
    }
   ],
   "source": [
    "li=[\"python\",'programming','learn']\n",
    "print(\",\".join(li))"
   ]
  },
  {
   "cell_type": "code",
   "execution_count": 78,
   "metadata": {},
   "outputs": [
    {
     "name": "stdout",
     "output_type": "stream",
     "text": [
      "['python', 'programming', 'is', 'easy', 'to', 'learn']\n"
     ]
    }
   ],
   "source": [
    "s1=\" python programming is easy to learn\"\n",
    "print(s1.split())"
   ]
  },
  {
   "cell_type": "code",
   "execution_count": 80,
   "metadata": {},
   "outputs": [
    {
     "name": "stdout",
     "output_type": "stream",
     "text": [
      "[' pytho', ' programmi', 'g is easy to lear', '']\n"
     ]
    }
   ],
   "source": [
    "s1=\" python programming is easy to learn\"\n",
    "print(s1.split('n'))"
   ]
  },
  {
   "cell_type": "code",
   "execution_count": 81,
   "metadata": {},
   "outputs": [
    {
     "name": "stdout",
     "output_type": "stream",
     "text": [
      "['python', 'programming', 'is', 'easy', 'to', 'learn']\n",
      "6\n"
     ]
    }
   ],
   "source": [
    "s2=\"python programming is easy to learn\"\n",
    "li=s2.split()\n",
    "print(li)\n",
    "print(len(li))"
   ]
  },
  {
   "cell_type": "code",
   "execution_count": 82,
   "metadata": {},
   "outputs": [
    {
     "name": "stdout",
     "output_type": "stream",
     "text": [
      "['p', 'y', 't', 'h', 'o', 'n', ' ', 'p', 'r', 'o', 'g', 'r', 'a', 'm', 'm', 'i', 'n', 'g', ' ', 'i', 's', ' ', 'e', 'a', 's', 'y', ' ', 't', 'o', ' ', 'l', 'e', 'a', 'r', 'n']\n"
     ]
    }
   ],
   "source": [
    "s2=\"python programming is easy to learn\"\n",
    "li=list(s2)\n",
    "print(li)"
   ]
  },
  {
   "cell_type": "markdown",
   "metadata": {},
   "source": [
    "### packages and modules\n",
    "packages:\n",
    "    - a collection of modules(single python file) and subpackages\n",
    "module:\n",
    "    -a single python file containing a set of funcions\n",
    "packages-->subpackages-->modules-->functions-->statements\n"
   ]
  },
  {
   "cell_type": "code",
   "execution_count": 84,
   "metadata": {},
   "outputs": [
    {
     "data": {
      "text/plain": [
       "123"
      ]
     },
     "execution_count": 84,
     "metadata": {},
     "output_type": "execute_result"
    }
   ],
   "source": [
    "#import the external packages to python file\n",
    "import math\n",
    "math.floor(123.45)"
   ]
  },
  {
   "cell_type": "code",
   "execution_count": 85,
   "metadata": {},
   "outputs": [
    {
     "data": {
      "text/plain": [
       "5040"
      ]
     },
     "execution_count": 85,
     "metadata": {},
     "output_type": "execute_result"
    }
   ],
   "source": [
    "from math import factorial as fact\n",
    "fact(7)"
   ]
  },
  {
   "cell_type": "code",
   "execution_count": 89,
   "metadata": {},
   "outputs": [
    {
     "name": "stdout",
     "output_type": "stream",
     "text": [
      "77 24 95 12 99 94 72 40 42 10 "
     ]
    }
   ],
   "source": [
    "#to generate n random numbers in given string\n",
    "import random\n",
    "def randomnumbers(n,lb,ub):\n",
    "    for i in range(0,n):\n",
    "        print(random.randint(lb,ub),end=\" \")\n",
    "    return\n",
    "randomnumbers(10,0,100)"
   ]
  },
  {
   "cell_type": "code",
   "execution_count": 90,
   "metadata": {},
   "outputs": [
    {
     "data": {
      "text/plain": [
       "'try once again!!'"
      ]
     },
     "execution_count": 90,
     "metadata": {},
     "output_type": "execute_result"
    }
   ],
   "source": [
    "def generatenumber(lb,ub):\n",
    "    li=[]\n",
    "    for i in range(0,n):\n",
    "        li.append(random.radiant(lb,ub),end=\" \")\n",
    "    return li\n",
    "def check(n):\n",
    "    if n in li:\n",
    "        return \"congrats!!!\"\n",
    "    else:\n",
    "        return\"try once again!!\"\n",
    "    return\n",
    "check(15)"
   ]
  }
 ],
 "metadata": {
  "kernelspec": {
   "display_name": "Python 3",
   "language": "python",
   "name": "python3"
  },
  "language_info": {
   "codemirror_mode": {
    "name": "ipython",
    "version": 3
   },
   "file_extension": ".py",
   "mimetype": "text/x-python",
   "name": "python",
   "nbconvert_exporter": "python",
   "pygments_lexer": "ipython3",
   "version": "3.7.3"
  }
 },
 "nbformat": 4,
 "nbformat_minor": 2
}
