{
 "cells": [
  {
   "cell_type": "markdown",
   "metadata": {},
   "source": [
    "## day objectives\n",
    "1. python data structures\n",
    "  :lists\n",
    "  :tuples\n",
    "  :dictionaries\n",
    "2. basic program sets on data structures\n",
    "3. advanced problem set\n",
    "4. contact application(dictionary object)\n",
    "\n",
    "Data structures:\n",
    "1. to store,search and sort the data\n"
   ]
  },
  {
   "cell_type": "markdown",
   "metadata": {},
   "source": [
    "### python data structures\n",
    "### lists\n",
    "- its the common data structure supports by python,the list items are seperated by comma operator and enclosed by square brackets\n",
    "    - example:\n",
    "    -  list1:[1,4,3,13]\n",
    "    -  list2:[\"gitam\",54,18.3,\"hyderabad\"]\n",
    "    "
   ]
  },
  {
   "cell_type": "code",
   "execution_count": 1,
   "metadata": {},
   "outputs": [
    {
     "name": "stdout",
     "output_type": "stream",
     "text": [
      "[1, 8, 16, 9, 2]\n",
      "1\n",
      "8\n",
      "2\n",
      "9\n",
      "[8, 16, 9, 2]\n",
      "[8, 16, 9]\n"
     ]
    }
   ],
   "source": [
    "lst=[1,8,16,9,2]\n",
    "print(lst)#access the entire list\n",
    "print(lst[0])#access the first item list\n",
    "print(lst[1])#access the second item list\n",
    "print(lst[-1])#access the last item list\n",
    "print(lst[-2])\n",
    "print(lst[1:])\n",
    "print(lst[1:4])\n"
   ]
  },
  {
   "cell_type": "code",
   "execution_count": 2,
   "metadata": {},
   "outputs": [
    {
     "name": "stdout",
     "output_type": "stream",
     "text": [
      "['gitam', 'hyderabad', 2019]\n",
      "['gitam', 'hyderabad', 2018]\n"
     ]
    }
   ],
   "source": [
    "#update the list items using index\n",
    "li=[\"gitam\",\"hyderabad\",2019]\n",
    "print(li)\n",
    "li[2]=2018\n",
    "print(li)"
   ]
  },
  {
   "cell_type": "code",
   "execution_count": 3,
   "metadata": {},
   "outputs": [
    {
     "name": "stdout",
     "output_type": "stream",
     "text": [
      "['gitam', 'hyderabad', 2019, 2018]\n",
      "['gitam', 'hyderabad', 2019]\n"
     ]
    }
   ],
   "source": [
    "#delete the specific item in the list\n",
    "li=[\"gitam\",\"hyderabad\",2019,2018]\n",
    "print(li)\n",
    "del li[3]\n",
    "print(li)"
   ]
  },
  {
   "cell_type": "code",
   "execution_count": 10,
   "metadata": {},
   "outputs": [
    {
     "name": "stdout",
     "output_type": "stream",
     "text": [
      "4\n",
      "[5, 13, 3, 1, 5, 13, 3, 1]\n",
      "4\n",
      "False\n",
      "True\n",
      "5 13 3 1 "
     ]
    }
   ],
   "source": [
    "# basic list operations\n",
    "list1=[5,13,3,1]\n",
    "print(len(list1))#length of the list\n",
    "print(list1*2)#repetation of the list\n",
    "print(len(list1))\n",
    "print(8 in list1)\n",
    "print(5 in list1)\n",
    "for x in range(len(list1)):#access the list items using iterations\n",
    "    print(list1[x],end=\" \")"
   ]
  },
  {
   "cell_type": "code",
   "execution_count": 13,
   "metadata": {},
   "outputs": [
    {
     "name": "stdout",
     "output_type": "stream",
     "text": [
      "1\n",
      "13\n",
      "22\n",
      "5\n",
      "7.0\n"
     ]
    }
   ],
   "source": [
    "#function of the list\n",
    "list1\n",
    "print(min(list1))#min element of the list\n",
    "print(max(list1))#max element of the list\n",
    "print(sum(list1))#sum of elements of the list\n",
    "print(sum(list1)//len(list1))#average of the list elements\n",
    "print(sum(list1[1::2])/len(list1[1::2]))#average of alternate items"
   ]
  },
  {
   "cell_type": "code",
   "execution_count": 27,
   "metadata": {},
   "outputs": [
    {
     "data": {
      "text/plain": [
       "[1,\n",
       " 14,\n",
       " 14,\n",
       " 14,\n",
       " 16,\n",
       " 16,\n",
       " 16,\n",
       " 16,\n",
       " 16,\n",
       " 16,\n",
       " 16,\n",
       " 16,\n",
       " 24,\n",
       " 24,\n",
       " 24,\n",
       " 24,\n",
       " 24,\n",
       " 24,\n",
       " 24,\n",
       " 24,\n",
       " 25,\n",
       " 25,\n",
       " 25,\n",
       " 25,\n",
       " 25,\n",
       " 25,\n",
       " 25,\n",
       " 25,\n",
       " 16,\n",
       " 25,\n",
       " 46]"
      ]
     },
     "execution_count": 27,
     "metadata": {},
     "output_type": "execute_result"
    }
   ],
   "source": [
    "list1 \n",
    "list1.append(24)#adding tha new element at the end of the list\n",
    "list1\n",
    "list1.insert(2,14)#adding a nem elemnt at a particular index\n",
    "list1\n",
    "list1.count(14)#return the value how many times the value is repeated\n",
    "list1.index(14)\n",
    "list1.sort()#sorts the list of elements\n",
    "list1\n",
    "list1.pop()#removes the last element from the list\n",
    "list1\n",
    "list1.pop(1)#removes the element from a particular index\n",
    "list2=[16,25,46]\n",
    "list1.extend(list2)#merges the list1 into list2\n",
    "list1"
   ]
  },
  {
   "cell_type": "code",
   "execution_count": 28,
   "metadata": {},
   "outputs": [
    {
     "data": {
      "text/plain": [
       "[1,\n",
       " 14,\n",
       " 14,\n",
       " 14,\n",
       " 16,\n",
       " 16,\n",
       " 16,\n",
       " 16,\n",
       " 16,\n",
       " 16,\n",
       " 16,\n",
       " 16,\n",
       " 16,\n",
       " 24,\n",
       " 24,\n",
       " 24,\n",
       " 24,\n",
       " 24,\n",
       " 24,\n",
       " 24,\n",
       " 24,\n",
       " 24,\n",
       " 25,\n",
       " 25,\n",
       " 25,\n",
       " 25,\n",
       " 25,\n",
       " 25,\n",
       " 25,\n",
       " 25,\n",
       " 25,\n",
       " 16,\n",
       " 25,\n",
       " 46]"
      ]
     },
     "execution_count": 28,
     "metadata": {},
     "output_type": "execute_result"
    }
   ],
   "source": [
    "list1 \n",
    "list1.append(24)#adding tha new element at the end of the list\n",
    "list1\n",
    "list1.insert(2,14)#adding a nem elemnt at a particular index\n",
    "list1\n",
    "list1.count(14)#return the value how many times the value is repeated\n",
    "list1.index(14)#returtns the index of the element\n",
    "list1.sort()#sorts the list of elements\n",
    "list1\n",
    "list1.pop()#removes the last element from the list\n",
    "list1\n",
    "list1.pop(1)#removes the element from a particular index\n",
    "list2=[16,25,46]\n",
    "list1.extend(list2)#merges the list1 into list2\n",
    "list1"
   ]
  },
  {
   "cell_type": "code",
   "execution_count": 32,
   "metadata": {},
   "outputs": [
    {
     "data": {
      "text/plain": [
       "[45, 32, 18, 18, 9, 6, 1]"
      ]
     },
     "execution_count": 32,
     "metadata": {},
     "output_type": "execute_result"
    }
   ],
   "source": [
    "list1=[1,9,6,18,2]\n",
    "list1.append(24)# adding a new element at the end of the position\n",
    "list1\n",
    "list1.insert(2,18)#adding a element at the particular index\n",
    "list1\n",
    "list1.count(18)#return the value how many items the object is repeated\n",
    "list1.index(18)#returns the index of the object\n",
    "list1.sort()#it's sort the list in ascending order\n",
    "list1\n",
    "list1.pop()#remove the last element from the list\n",
    "list1\n",
    "list1.pop(1)#remove the element from the particular index\n",
    "list2=[123,32,45]\n",
    "list1.extend(list2)#merge the list1 into list2\n",
    "list1.reverse()#reverse of the list\n",
    "list1.remove(123)#removes the lement from the list\n",
    "list1"
   ]
  },
  {
   "cell_type": "code",
   "execution_count": 20,
   "metadata": {},
   "outputs": [
    {
     "name": "stdout",
     "output_type": "stream",
     "text": [
      "[3, 6, 8]\n",
      "[3, 6]\n"
     ]
    }
   ],
   "source": [
    "li=[1,9,8,2,6,7,3]\n",
    "print(li[-1:0:-2])\n",
    "print(li[-1:2:-2])"
   ]
  },
  {
   "cell_type": "code",
   "execution_count": 37,
   "metadata": {},
   "outputs": [
    {
     "data": {
      "text/plain": [
       "6"
      ]
     },
     "execution_count": 37,
     "metadata": {},
     "output_type": "execute_result"
    }
   ],
   "source": [
    "#function to find the second large element from tye list\n",
    "li=[1,19,6,2,8,18,3]\n",
    "def secondlarge(li):\n",
    "    li.sort()\n",
    "    return li[-2]\n",
    "def genericlarge(li,n):\n",
    "    li.sort()\n",
    "    return li[-n]\n",
    "genericlarge(li,4)"
   ]
  },
  {
   "cell_type": "code",
   "execution_count": 40,
   "metadata": {},
   "outputs": [
    {
     "data": {
      "text/plain": [
       "8"
      ]
     },
     "execution_count": 40,
     "metadata": {},
     "output_type": "execute_result"
    }
   ],
   "source": [
    "#function to find the second least element from the list\n",
    "li=[1,19,6,2,8,18,3]\n",
    "'''def secondleast(li):\n",
    "    li.sort()\n",
    "    return li(1)'''\n",
    "def genericleast(li,n):\n",
    "    li.sort()\n",
    "    return li[n-1]\n",
    "genericleast(li,5)"
   ]
  },
  {
   "cell_type": "code",
   "execution_count": 43,
   "metadata": {},
   "outputs": [
    {
     "data": {
      "text/plain": [
       "-1"
      ]
     },
     "execution_count": 43,
     "metadata": {},
     "output_type": "execute_result"
    }
   ],
   "source": [
    "#to search the data in the list\n",
    "def linearsearch(li,tarItem):\n",
    "    for x in range(len(li)):\n",
    "        if li[x]==tarItem:\n",
    "            return x\n",
    "    return -1\n",
    "li=[1,19,6,2,8,18,3]    \n",
    "linearsearch(li,225)"
   ]
  },
  {
   "cell_type": "code",
   "execution_count": 45,
   "metadata": {},
   "outputs": [
    {
     "name": "stdout",
     "output_type": "stream",
     "text": [
      "2 4 8 "
     ]
    }
   ],
   "source": [
    "#to find the indices of a repeated elemnt\n",
    "def linearsearch(li,tarItem):\n",
    "    for x in range(len(li)):\n",
    "        if li[x]==tarItem:\n",
    "            print(x,end=\" \")\n",
    "    return\n",
    "li=[1,7,3,9,3,4,2,8,3]\n",
    "linearsearch(li,3)"
   ]
  },
  {
   "cell_type": "code",
   "execution_count": 48,
   "metadata": {},
   "outputs": [
    {
     "name": "stdout",
     "output_type": "stream",
     "text": [
      "  ! !   ! ! ! !     ! ! ! ! ! ! ! !  "
     ]
    }
   ],
   "source": [
    "#to convert the list of elements to a series of characters\n",
    "li=[1,7,3,9,3,4,2,8,3]\n",
    "def linearsearch(li,tarItem):\n",
    "    for x in range(len(li)):\n",
    "        if li[x]==tarItem:\n",
    "            for i in range(x):\n",
    "                print(\"!\",end=\" \")\n",
    "        print(end=\" \")\n",
    "    return\n",
    "linearsearch(li,3)"
   ]
  },
  {
   "cell_type": "code",
   "execution_count": 52,
   "metadata": {},
   "outputs": [
    {
     "data": {
      "text/plain": [
       "45"
      ]
     },
     "execution_count": 52,
     "metadata": {},
     "output_type": "execute_result"
    }
   ],
   "source": [
    "#sum of perfectly multiple numbers of 3 and 5\n",
    "li=[15,24,30,25]\n",
    "def sumof(li):\n",
    "    sum=0\n",
    "    for x in range(len(li)):\n",
    "        if li[x]%3==0 and li[x]%5==0:\n",
    "            sum=sum+li[x]\n",
    "    return sum\n",
    "sumof(li)"
   ]
  },
  {
   "cell_type": "code",
   "execution_count": 56,
   "metadata": {},
   "outputs": [
    {
     "name": "stdout",
     "output_type": "stream",
     "text": [
      "2 14 15 56 8 "
     ]
    }
   ],
   "source": [
    "#\n",
    "li=[2,5,7,3,8]\n",
    "def list1(li):\n",
    "    for x in range(len(li)):\n",
    "        if x==0 or x==len(li)-1:\n",
    "            print(li[x],end=\" \")\n",
    "        else:\n",
    "            print(li[x-1]*li[x+1],end=\" \") \n",
    "    return \n",
    "list1(li)"
   ]
  },
  {
   "cell_type": "code",
   "execution_count": 58,
   "metadata": {},
   "outputs": [
    {
     "name": "stdout",
     "output_type": "stream",
     "text": [
      "2 5 7 3 8 "
     ]
    }
   ],
   "source": [
    "#if both side numbers are even then print the number\n",
    "li=[2,5,6,7,4,3,8]\n",
    "def iseven(li):\n",
    "    for x in range(len(li)):\n",
    "        if x==0 or x==len(li)-1:\n",
    "            print(li[x],end=\" \")\n",
    "        elif li[x-1]%2==0 and li[x+1]%2==0:\n",
    "            print(li[x],end=\" \")\n",
    "    return\n",
    "iseven(li)"
   ]
  },
  {
   "cell_type": "markdown",
   "metadata": {},
   "source": [
    "### number to list\n",
    "--->input as a num\n",
    "--->output will be a list"
   ]
  },
  {
   "cell_type": "code",
   "execution_count": 61,
   "metadata": {},
   "outputs": [
    {
     "data": {
      "text/plain": [
       "[1, 5, 2, 7, 3]"
      ]
     },
     "execution_count": 61,
     "metadata": {},
     "output_type": "execute_result"
    }
   ],
   "source": [
    "#convert a number into list form\n",
    "def numberlistconversion(n):\n",
    "    li=[]\n",
    "    while n!=0:\n",
    "        r=n%10\n",
    "        li.append(r)\n",
    "        n=n//10\n",
    "    li.reverse()\n",
    "    return li\n",
    "numberlistconversion(15273)"
   ]
  },
  {
   "cell_type": "code",
   "execution_count": 67,
   "metadata": {},
   "outputs": [
    {
     "data": {
      "text/plain": [
       "2"
      ]
     },
     "execution_count": 67,
     "metadata": {},
     "output_type": "execute_result"
    }
   ],
   "source": [
    "#to count the occurance of the characters in the string\n",
    "def charoccurance(s,c):\n",
    "    cnt=0\n",
    "    for ch in s:\n",
    "        if ch==c:\n",
    "            cnt=cnt+1\n",
    "    return cnt\n",
    "#def charoccurance1(s,c):\n",
    "   # return s.count(c)\n",
    "charoccurance(\"python programming\",'m')"
   ]
  },
  {
   "cell_type": "markdown",
   "metadata": {},
   "source": [
    "## string to list conversion"
   ]
  },
  {
   "cell_type": "code",
   "execution_count": 70,
   "metadata": {},
   "outputs": [
    {
     "data": {
      "text/plain": [
       "[1, 2, 3, 4, 5, 8]"
      ]
     },
     "execution_count": 70,
     "metadata": {},
     "output_type": "execute_result"
    }
   ],
   "source": [
    "#converting a string to the list form\n",
    "def stringtolistconversion(s):\n",
    "    li=s.split()\n",
    "    numberlist=[]\n",
    "    for i in li:\n",
    "        numberlist.append(int(i))\n",
    "    return numberlist\n",
    "s=\"1 2 3 4 5 8\"\n",
    "stringtolistconversion(s)"
   ]
  },
  {
   "cell_type": "markdown",
   "metadata": {},
   "source": [
    "### sorting algorithms:\n",
    "-->all the sorting algorithms makes the list into ascending order \n",
    "1.bubble sort\n",
    "2.selection sort\n",
    "3.insertion sort"
   ]
  },
  {
   "cell_type": "code",
   "execution_count": 74,
   "metadata": {},
   "outputs": [
    {
     "data": {
      "text/plain": [
       "[1, 16, 19, 25]"
      ]
     },
     "execution_count": 74,
     "metadata": {},
     "output_type": "execute_result"
    }
   ],
   "source": [
    "#to represent the bubble sort\n",
    "def bubblesort(li):\n",
    "    for i in range(len(li)-1):\n",
    "        for j in range(len(li)-1):\n",
    "            if li[j]>li[j+1]:\n",
    "                li[j],li[j+1]=li[j+1],li[j]\n",
    "    return li\n",
    "li=[19,1,25,16]\n",
    "bubblesort(li)"
   ]
  },
  {
   "cell_type": "code",
   "execution_count": null,
   "metadata": {},
   "outputs": [],
   "source": []
  }
 ],
 "metadata": {
  "kernelspec": {
   "display_name": "Python 3",
   "language": "python",
   "name": "python3"
  },
  "language_info": {
   "codemirror_mode": {
    "name": "ipython",
    "version": 3
   },
   "file_extension": ".py",
   "mimetype": "text/x-python",
   "name": "python",
   "nbconvert_exporter": "python",
   "pygments_lexer": "ipython3",
   "version": "3.7.3"
  }
 },
 "nbformat": 4,
 "nbformat_minor": 2
}
